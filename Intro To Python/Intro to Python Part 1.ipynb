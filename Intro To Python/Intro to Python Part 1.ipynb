{
 "cells": [
  {
   "cell_type": "markdown",
   "metadata": {},
   "source": [
    "# 1. Overview of Python\n",
    "\n",
    "- Python is an **interpreted language**\n",
    "- **Leading whitespace** (spaces and tabs) at the beginning of a logical line is used to compute the indentation level of the line\n",
    "- **Indentation** is used to determine the grouping of statements in python \n",
    "- No need of data type **declaration**. Python handles the data type of a variable depending on the value it contains"
   ]
  },
  {
   "cell_type": "markdown",
   "metadata": {},
   "source": [
    "# 2. Hello World Program\n",
    "\n",
    "```python\n",
    "print('Hello World')\n",
    "```"
   ]
  },
  {
   "cell_type": "code",
   "execution_count": 16,
   "metadata": {},
   "outputs": [
    {
     "name": "stdout",
     "output_type": "stream",
     "text": [
      "Hello World\n"
     ]
    }
   ],
   "source": [
    "##Code here\n",
    "print(\"Hello World\")"
   ]
  },
  {
   "cell_type": "markdown",
   "metadata": {},
   "source": [
    "# 3. Standard Data Types in Python\n",
    "\n",
    "- List\n",
    "    ```python\n",
    "    var1 = [1,2,3,4]\n",
    "    ```\n",
    "- Number\n",
    "    ```python\n",
    "    var2 = 20.18\n",
    "    ```\n",
    "    \n",
    "- Tuple\n",
    "    ```python\n",
    "    var3 = (1,2,3,4)\n",
    "    ```\n",
    "- Dictionary\n",
    "    ```python\n",
    "    var4 = {'apple':2,'banana':4}\n",
    "    ```\n",
    "- String\n",
    "    ```python\n",
    "    var5 = \"Hello World\"\n",
    "    ```"
   ]
  },
  {
   "cell_type": "code",
   "execution_count": 11,
   "metadata": {},
   "outputs": [],
   "source": [
    "#Test what you have just learned\n",
    "var1 = [1,2,3,4]\n",
    "var2 = 20.18\n",
    "var3 = (1,2,3,4)\n",
    "var4 = {'apple':2,'banana':4}\n",
    "var5 = \"Hello World\"\n"
   ]
  },
  {
   "cell_type": "code",
   "execution_count": 13,
   "metadata": {},
   "outputs": [
    {
     "name": "stdout",
     "output_type": "stream",
     "text": [
      "<class 'list'>\n",
      "<class 'float'>\n",
      "<class 'tuple'>\n",
      "<class 'dict'>\n",
      "<class 'str'>\n"
     ]
    }
   ],
   "source": [
    "#Check the type\n",
    "print(type(var1))\n",
    "print(type(var2))\n",
    "print(type(var3))\n",
    "print(type(var4))\n",
    "print(type(var5))"
   ]
  },
  {
   "cell_type": "markdown",
   "metadata": {},
   "source": [
    "# 4. Functions and Conditional\n",
    "\n",
    "```python\n",
    "def test_function(num):\n",
    "    if num>0:\n",
    "        print(\"Positive Number\")\n",
    "    elif num<0:\n",
    "        print(\"Negative Number\")\n",
    "    else:\n",
    "        print(\"Zero\")\n",
    "```"
   ]
  },
  {
   "cell_type": "code",
   "execution_count": null,
   "metadata": {},
   "outputs": [],
   "source": [
    "###Code it out here"
   ]
  },
  {
   "cell_type": "markdown",
   "metadata": {},
   "source": [
    "# 5. Loops\n",
    "\n",
    "- for loop\n",
    "```python\n",
    "for i in range(1,10):\n",
    "    print(i)\n",
    "```\n",
    "\n",
    "- while loop\n",
    "```python\n",
    "i=0\n",
    "while i<5:\n",
    "    print(i)\n",
    "    i+=1\n",
    "```"
   ]
  },
  {
   "cell_type": "code",
   "execution_count": 33,
   "metadata": {},
   "outputs": [
    {
     "name": "stdout",
     "output_type": "stream",
     "text": [
      "<class 'range'>\n"
     ]
    }
   ],
   "source": [
    "#code it out here"
   ]
  },
  {
   "cell_type": "markdown",
   "metadata": {},
   "source": [
    "# 6. Classes and Objects\n",
    "\n",
    "- The constructor is always written as a function called __init__()\n",
    "- It must always take as its first argument a **reference to the instance** being constructed\n",
    "- Single underscore before a member variable denotes it protected and double underscore denotes it private but it is just a convention\n",
    "\n",
    "```python\n",
    "    class Employee(object):\n",
    "        \n",
    "        def __init__(self,emp_id,name):\n",
    "            self._id = emp_id #protected variable\n",
    "            self.__name = name #private variable\n",
    "            \n",
    "        def get_id():\n",
    "            return self._id\n",
    "            \n",
    "        \n",
    "        \n",
    "```"
   ]
  },
  {
   "cell_type": "code",
   "execution_count": 24,
   "metadata": {},
   "outputs": [],
   "source": [
    "##Code it here"
   ]
  },
  {
   "cell_type": "code",
   "execution_count": 25,
   "metadata": {},
   "outputs": [],
   "source": [
    "##create an object\n",
    "emp1 = Employee('001A','Sushil Shakya')"
   ]
  },
  {
   "cell_type": "code",
   "execution_count": 29,
   "metadata": {},
   "outputs": [
    {
     "data": {
      "text/plain": [
       "'001A'"
      ]
     },
     "execution_count": 29,
     "metadata": {},
     "output_type": "execute_result"
    }
   ],
   "source": [
    "emp1.get_id()"
   ]
  },
  {
   "cell_type": "code",
   "execution_count": null,
   "metadata": {},
   "outputs": [],
   "source": []
  },
  {
   "cell_type": "markdown",
   "metadata": {},
   "source": [
    "# 7. Exception handling\n",
    "\n",
    "```python\n",
    "    def ratio(num,den):\n",
    "        try:\n",
    "           ratio = num/den\n",
    "        except Exception as e:\n",
    "            print(\"Exception:\",e)\n",
    "```\n",
    "    "
   ]
  },
  {
   "cell_type": "code",
   "execution_count": 36,
   "metadata": {},
   "outputs": [],
   "source": [
    "##code it out here"
   ]
  },
  {
   "cell_type": "code",
   "execution_count": 37,
   "metadata": {
    "scrolled": true
   },
   "outputs": [
    {
     "name": "stdout",
     "output_type": "stream",
     "text": [
      "Exception: division by zero\n"
     ]
    }
   ],
   "source": [
    "print(ratio(10,2))"
   ]
  },
  {
   "cell_type": "code",
   "execution_count": 38,
   "metadata": {},
   "outputs": [
    {
     "name": "stdout",
     "output_type": "stream",
     "text": [
      "Exception: division by zero\n",
      "None\n"
     ]
    }
   ],
   "source": [
    "print(ratio(1,0))"
   ]
  },
  {
   "cell_type": "code",
   "execution_count": null,
   "metadata": {},
   "outputs": [],
   "source": []
  }
 ],
 "metadata": {
  "kernelspec": {
   "display_name": "Python 3",
   "language": "python",
   "name": "python3"
  },
  "language_info": {
   "codemirror_mode": {
    "name": "ipython",
    "version": 3
   },
   "file_extension": ".py",
   "mimetype": "text/x-python",
   "name": "python",
   "nbconvert_exporter": "python",
   "pygments_lexer": "ipython3",
   "version": "3.6.5"
  }
 },
 "nbformat": 4,
 "nbformat_minor": 2
}
