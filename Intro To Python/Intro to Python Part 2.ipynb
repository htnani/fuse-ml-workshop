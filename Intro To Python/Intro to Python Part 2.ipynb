{
 "cells": [
  {
   "cell_type": "markdown",
   "metadata": {},
   "source": [
    "# Problem 1: Baskets with fruits"
   ]
  },
  {
   "cell_type": "code",
   "execution_count": 8,
   "metadata": {},
   "outputs": [],
   "source": [
    "basket1 = {'apple':10,'banana':20,'mango':30}\n",
    "basket2 = {'grapes':5,'banana':12,'litchi':15}\n",
    "basket3 = {'orange':10,'apple':20,'mango':30}"
   ]
  },
  {
   "cell_type": "markdown",
   "metadata": {},
   "source": [
    "### A. Get list of unique fruits"
   ]
  },
  {
   "cell_type": "code",
   "execution_count": 13,
   "metadata": {},
   "outputs": [],
   "source": [
    "#create a empty list variable named fruits_list\n",
    "#create a list variable named basket_list and put all the above basket dictionaries in it\n",
    "\n",
    "##your code goes here"
   ]
  },
  {
   "cell_type": "code",
   "execution_count": 2,
   "metadata": {},
   "outputs": [],
   "source": [
    "#loop through each basket in the basket_list and append the keys of the basket dict into the fruits_list \n",
    "\n",
    "##your code goes here"
   ]
  },
  {
   "cell_type": "code",
   "execution_count": 3,
   "metadata": {},
   "outputs": [],
   "source": [
    "#print the fruits_list......you will see repeated results\n",
    "\n",
    "##your code goes here"
   ]
  },
  {
   "cell_type": "code",
   "execution_count": 4,
   "metadata": {},
   "outputs": [],
   "source": [
    "#If we want names of unique fruits, convert the fruits list to set() as set can't contain duplicates\n",
    "\n",
    "##your code goes here"
   ]
  },
  {
   "cell_type": "code",
   "execution_count": 5,
   "metadata": {},
   "outputs": [],
   "source": [
    "#print the fruit set\n",
    "\n",
    "##your code goes here"
   ]
  },
  {
   "cell_type": "code",
   "execution_count": 6,
   "metadata": {},
   "outputs": [],
   "source": [
    "#convert the set to list\n",
    "\n",
    "##your code goes here"
   ]
  },
  {
   "cell_type": "markdown",
   "metadata": {},
   "source": [
    "### B. Get total fruits count"
   ]
  },
  {
   "cell_type": "code",
   "execution_count": 22,
   "metadata": {},
   "outputs": [
    {
     "name": "stdout",
     "output_type": "stream",
     "text": [
      "dict_values([10, 20, 30])\n"
     ]
    }
   ],
   "source": [
    "#To get only the values from a dictionary\n",
    "print(basket1.values())"
   ]
  },
  {
   "cell_type": "code",
   "execution_count": null,
   "metadata": {},
   "outputs": [],
   "source": [
    "##Set a variable fruits_count=0\n",
    "##loop thorugh basket_list and get values list from each basket, sum them up and add to the total fruits_count\n",
    "\n",
    "##your code goes here"
   ]
  },
  {
   "cell_type": "markdown",
   "metadata": {},
   "source": [
    "### C. Get fruit wise count"
   ]
  },
  {
   "cell_type": "code",
   "execution_count": 8,
   "metadata": {},
   "outputs": [],
   "source": [
    "#Concatenate the basket dictionaries into one\n",
    "basket4 = {} #create a new basket dictionary"
   ]
  },
  {
   "cell_type": "code",
   "execution_count": 9,
   "metadata": {},
   "outputs": [],
   "source": [
    "#loop through each basket in basket_list and update the basket4 dictionary\n",
    "\n",
    "##your code goes here"
   ]
  },
  {
   "cell_type": "code",
   "execution_count": 11,
   "metadata": {},
   "outputs": [
    {
     "name": "stdout",
     "output_type": "stream",
     "text": [
      "{}\n"
     ]
    }
   ],
   "source": [
    "##print concatenated basket\n",
    "print(basket4)"
   ]
  },
  {
   "cell_type": "code",
   "execution_count": null,
   "metadata": {},
   "outputs": [],
   "source": []
  },
  {
   "cell_type": "markdown",
   "metadata": {},
   "source": [
    "# Problem2: Count frequency of surnames in an employee name list and sort by frequency"
   ]
  },
  {
   "cell_type": "code",
   "execution_count": null,
   "metadata": {},
   "outputs": [],
   "source": [
    "#Given is a employee name list, get the surnames from each full name and count the frequency of each surname and \n",
    "#store it in a dictionary as {surname:count} and then finally sort it by frequency\n",
    "#To get surname from full name do surname = fullname.split(' ')[1]\n",
    "\n",
    "employee_name_list=[\"Sushil Shakya\",\"Rokin Maharjan\",\"Punit Shrestha\",\"Pujan Maharjan\",\"Basanta Maharjan\",\"Neha Shakya\",\"Pundarika Shakya\",\"Shashank Prajapati\",\"Rosy Shrestha\",\"Sujan Thapa\",\"Sanish Pradhananga\",\"Rajesh Prajapati\"]\n",
    "\n",
    "##your code goes here"
   ]
  },
  {
   "cell_type": "code",
   "execution_count": null,
   "metadata": {},
   "outputs": [],
   "source": []
  },
  {
   "cell_type": "code",
   "execution_count": null,
   "metadata": {},
   "outputs": [],
   "source": []
  }
 ],
 "metadata": {
  "kernelspec": {
   "display_name": "Python 3",
   "language": "python",
   "name": "python3"
  },
  "language_info": {
   "codemirror_mode": {
    "name": "ipython",
    "version": 3
   },
   "file_extension": ".py",
   "mimetype": "text/x-python",
   "name": "python",
   "nbconvert_exporter": "python",
   "pygments_lexer": "ipython3",
   "version": "3.6.5"
  }
 },
 "nbformat": 4,
 "nbformat_minor": 2
}
